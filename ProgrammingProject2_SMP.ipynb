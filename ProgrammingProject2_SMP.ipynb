{
 "cells": [
  {
   "cell_type": "markdown",
   "metadata": {},
   "source": [
    "# Programming Project 2\n",
    "---\n",
    "**Author:** Sheridan Payne  \n",
    "**Version:** 1.0  \n",
    "**Semester:** Fall 2020  \n",
    "\n",
    "This *notebook* contains my solution to **Programming Project 2**\n",
    "\n",
    "- Problem 1:  extract_column() Function\n",
    "- Problem 2:  names using zip()\n",
    "- Problem 3:  Mean age of each president at inauguration and death using statistics library\n",
    "- Problem 4:  get_post_term() function\n",
    "- Problem 5:  calculate_summary() function\n",
    "- Problem 6:  prez_dicts dictionary & convert_to_dict() function  \n",
    "\n",
    "\n",
    "- Bonus 1: convert_to_sentence() function\n",
    "- Bonus 2: unique ages list"
   ]
  },
  {
   "cell_type": "code",
   "execution_count": 1,
   "metadata": {},
   "outputs": [],
   "source": [
    "presidents = [\n",
    "    ['George','Washington',1789,1797,'VA','2/22/1732','12/14/1799',57,67],\n",
    "    ['John','Adams1',1797,1801,'MA','10/30/1735','7/4/1826',61,90],\n",
    "    ['Thomas','Jefferson',1801,1809,'VA','4/13/1743','7/4/1826',57,83],\n",
    "    ['James','Madison',1809,1817,'VA','3/16/1751','6/28/1836',57,85],\n",
    "    ['James','Monroe',1817,1825,'VA','4/28/1758','7/4/1831',58,73],\n",
    "    ['John','Adams2',1825,1829,'MA','7/11/1767','2/23/1848',57,80],\n",
    "    ['Andrew','Jackson',1829,1837,'SC','3/15/1767','6/8/1845',61,78],\n",
    "    ['Martin','Van Buren',1837,1841,'NY','12/5/1782','7/24/1862',54,79],\n",
    "    ['William','Harrison1',1841,1841,'VA','2/9/1773','4/4/1841',68,68],\n",
    "    ['John','Tyler',1841,1845,'VA','3/29/1790','1/18/1862',51,71],\n",
    "    ['James','Polk',1845,1849,'NC','11/2/1795','6/15/1849',49,53],\n",
    "    ['Zachary','Taylor',1849,1850,'VA','11/24/1784','7/9/1850',64,65],\n",
    "    ['Millard','Fillmore',1850,1853,'NY','1/7/1800','3/8/1874',50,74],\n",
    "    ['Franklin','Pierce',1853,1857,'NH','11/23/1804','10/8/1869',48,64],\n",
    "    ['James','Buchanan',1857,1861,'PA','4/23/1791','6/1/1868',65,77],\n",
    "    ['Abraham','Lincoln',1861,1865,'KY','2/12/1809','4/15/1865',52,56],\n",
    "    ['Andrew','Johnson',1865,1869,'NC','12/29/1808','7/31/1875',56,66],\n",
    "    ['Ulysses','Grant',1869,1877,'OH','4/27/1822','7/23/1885',46,63],\n",
    "    ['Rutherford','Hayes',1877,1881,'OH','10/4/1822','1/17/1893',54,70],\n",
    "    ['James','Garfield',1881,1881,'OH','11/19/1831','9/19/1881',49,49],\n",
    "    ['Chester','Arthur',1881,1885,'VT','10/5/1829','11/18/1886',50,56],\n",
    "    ['Grover','Cleveland1',1885,1889,'NJ','3/18/1837','6/24/1908',47,71],\n",
    "    ['Benjamin','Harrison2',1889,1893,'OH','8/20/1833','3/13/1901',55,67],\n",
    "    ['Grover','Cleveland2',1893,1897,'NJ','3/18/1837','6/24/1908',55,71]\n",
    "]"
   ]
  },
  {
   "cell_type": "markdown",
   "metadata": {},
   "source": [
    "### Problem 1"
   ]
  },
  {
   "cell_type": "code",
   "execution_count": 35,
   "metadata": {},
   "outputs": [],
   "source": [
    "def extract_column(data,col):\n",
    "    '''Accepts a list and a column number you would like to extract from the list'''\n",
    "    column = []\n",
    "    for i in range(len(data)):\n",
    "        column.append(data[i][col])\n",
    "    return column"
   ]
  },
  {
   "cell_type": "code",
   "execution_count": 4,
   "metadata": {},
   "outputs": [],
   "source": [
    "first_name = extract_column(presidents,0)\n",
    "last_name = extract_column(presidents,1)\n",
    "start_term = extract_column(presidents,2)\n",
    "end_term = extract_column(presidents,3)\n",
    "birth_state = extract_column(presidents,4)\n",
    "birth_date = extract_column(presidents,5)\n",
    "death_date = extract_column(presidents,6)\n",
    "inauguration_age = extract_column(presidents,7)\n",
    "death_age = extract_column(presidents,8)"
   ]
  },
  {
   "cell_type": "markdown",
   "metadata": {},
   "source": [
    "### Problem 2"
   ]
  },
  {
   "cell_type": "code",
   "execution_count": 37,
   "metadata": {},
   "outputs": [
    {
     "data": {
      "text/plain": [
       "[('George', 'Washington'),\n",
       " ('John', 'Adams1'),\n",
       " ('Thomas', 'Jefferson'),\n",
       " ('James', 'Madison'),\n",
       " ('James', 'Monroe'),\n",
       " ('John', 'Adams2'),\n",
       " ('Andrew', 'Jackson'),\n",
       " ('Martin', 'Van Buren'),\n",
       " ('William', 'Harrison1'),\n",
       " ('John', 'Tyler'),\n",
       " ('James', 'Polk'),\n",
       " ('Zachary', 'Taylor'),\n",
       " ('Millard', 'Fillmore'),\n",
       " ('Franklin', 'Pierce'),\n",
       " ('James', 'Buchanan'),\n",
       " ('Abraham', 'Lincoln'),\n",
       " ('Andrew', 'Johnson'),\n",
       " ('Ulysses', 'Grant'),\n",
       " ('Rutherford', 'Hayes'),\n",
       " ('James', 'Garfield'),\n",
       " ('Chester', 'Arthur'),\n",
       " ('Grover', 'Cleveland1'),\n",
       " ('Benjamin', 'Harrison2'),\n",
       " ('Grover', 'Cleveland2')]"
      ]
     },
     "execution_count": 37,
     "metadata": {},
     "output_type": "execute_result"
    }
   ],
   "source": [
    "names = []\n",
    "names = list(zip(first_name,last_name))\n",
    "names"
   ]
  },
  {
   "cell_type": "code",
   "execution_count": 6,
   "metadata": {},
   "outputs": [
    {
     "data": {
      "text/plain": [
       "[('John', 'Adams1'),\n",
       " ('John', 'Adams2'),\n",
       " ('Chester', 'Arthur'),\n",
       " ('James', 'Buchanan'),\n",
       " ('Grover', 'Cleveland1'),\n",
       " ('Grover', 'Cleveland2'),\n",
       " ('Millard', 'Fillmore'),\n",
       " ('James', 'Garfield'),\n",
       " ('Ulysses', 'Grant'),\n",
       " ('William', 'Harrison1'),\n",
       " ('Benjamin', 'Harrison2'),\n",
       " ('Rutherford', 'Hayes'),\n",
       " ('Andrew', 'Jackson'),\n",
       " ('Thomas', 'Jefferson'),\n",
       " ('Andrew', 'Johnson'),\n",
       " ('Abraham', 'Lincoln'),\n",
       " ('James', 'Madison'),\n",
       " ('James', 'Monroe'),\n",
       " ('Franklin', 'Pierce'),\n",
       " ('James', 'Polk'),\n",
       " ('Zachary', 'Taylor'),\n",
       " ('John', 'Tyler'),\n",
       " ('Martin', 'Van Buren'),\n",
       " ('George', 'Washington')]"
      ]
     },
     "execution_count": 6,
     "metadata": {},
     "output_type": "execute_result"
    }
   ],
   "source": [
    "sorted_names = sorted(names,key=lambda x:x[1])\n",
    "sorted_names"
   ]
  },
  {
   "cell_type": "markdown",
   "metadata": {},
   "source": [
    "### Problem 3"
   ]
  },
  {
   "cell_type": "code",
   "execution_count": 7,
   "metadata": {},
   "outputs": [],
   "source": [
    "import statistics as stats\n",
    "mean_inaug_age = stats.mean(inauguration_age)\n",
    "mean_death_age = stats.mean(death_age)"
   ]
  },
  {
   "cell_type": "markdown",
   "metadata": {},
   "source": [
    "### Problem 4"
   ]
  },
  {
   "cell_type": "code",
   "execution_count": 8,
   "metadata": {},
   "outputs": [],
   "source": [
    "def get_post_term(data):\n",
    "    '''Calculates and returns how many years a president lived after completion of their term'''\n",
    "    years = data[8]-(data[7]+(data[3]-data[2]))\n",
    "    return years"
   ]
  },
  {
   "cell_type": "code",
   "execution_count": 9,
   "metadata": {},
   "outputs": [
    {
     "data": {
      "text/plain": [
       "12"
      ]
     },
     "execution_count": 9,
     "metadata": {},
     "output_type": "execute_result"
    }
   ],
   "source": [
    "get_post_term(['Grover','Cleveland2',1893,1897,'NJ','3/18/1837','6/24/1908',55,71])"
   ]
  },
  {
   "cell_type": "code",
   "execution_count": 10,
   "metadata": {},
   "outputs": [
    {
     "data": {
      "text/plain": [
       "21"
      ]
     },
     "execution_count": 10,
     "metadata": {},
     "output_type": "execute_result"
    }
   ],
   "source": [
    "get_post_term(['Millard','Fillmore',1850,1853,'NY','1/7/1800','3/8/1874',50,74])"
   ]
  },
  {
   "cell_type": "code",
   "execution_count": 11,
   "metadata": {},
   "outputs": [
    {
     "data": {
      "text/plain": [
       "9"
      ]
     },
     "execution_count": 11,
     "metadata": {},
     "output_type": "execute_result"
    }
   ],
   "source": [
    "get_post_term(['Ulysses','Grant',1869,1877,'OH','4/27/1822','7/23/1885',46,63])"
   ]
  },
  {
   "cell_type": "code",
   "execution_count": 12,
   "metadata": {},
   "outputs": [
    {
     "data": {
      "text/plain": [
       "[2,\n",
       " 25,\n",
       " 18,\n",
       " 20,\n",
       " 7,\n",
       " 19,\n",
       " 9,\n",
       " 21,\n",
       " 0,\n",
       " 16,\n",
       " 0,\n",
       " 0,\n",
       " 21,\n",
       " 12,\n",
       " 8,\n",
       " 0,\n",
       " 6,\n",
       " 9,\n",
       " 12,\n",
       " 0,\n",
       " 2,\n",
       " 20,\n",
       " 8,\n",
       " 12]"
      ]
     },
     "execution_count": 12,
     "metadata": {},
     "output_type": "execute_result"
    }
   ],
   "source": [
    "post_presidency = list(map(get_post_term,presidents))\n",
    "post_presidency"
   ]
  },
  {
   "cell_type": "code",
   "execution_count": 13,
   "metadata": {},
   "outputs": [],
   "source": [
    "mean_post_presidency = stats.mean(post_presidency)"
   ]
  },
  {
   "cell_type": "markdown",
   "metadata": {},
   "source": [
    "### Problem 5"
   ]
  },
  {
   "cell_type": "code",
   "execution_count": 38,
   "metadata": {},
   "outputs": [
    {
     "name": "stdout",
     "output_type": "stream",
     "text": [
      "+--------------------------+-------------------+---------------------------------------+\n",
      "| Mean Age at Inauguration | Mean Age at Death | Mean Number of Years after Presidency |\n",
      "+--------------------------+-------------------+---------------------------------------+\n",
      "|              55.04 years |       69.83 years |                           10.29 years |\n",
      "+--------------------------+-------------------+---------------------------------------+\n"
     ]
    }
   ],
   "source": [
    "from prettytable import PrettyTable\n",
    "def calculate_summary():\n",
    "    '''Prints a table of the mean age of a president at inauguration, age at death, and number of years after presidency that lived'''\n",
    "    p = PrettyTable()\n",
    "    p.field_names = [\"Mean Age at Inauguration\",\"Mean Age at Death\",\"Mean Number of Years after Presidency\"]\n",
    "    p.add_row([f'{mean_inaug_age:.2f}'+\" years\",f'{mean_death_age:.2f}'+\" years\",f'{mean_post_presidency:.2f}'+\" years\"])\n",
    "    p.align[\"Mean Age at Inauguration\"] = \"r\"\n",
    "    p.align[\"Mean Age at Death\"] = \"r\"\n",
    "    p.align[\"Mean Number of Years after Presidency\"] = \"r\"\n",
    "    print(p)\n",
    "    \n",
    "calculate_summary()"
   ]
  },
  {
   "cell_type": "markdown",
   "metadata": {},
   "source": [
    "### Problem 6"
   ]
  },
  {
   "cell_type": "code",
   "execution_count": 30,
   "metadata": {},
   "outputs": [
    {
     "data": {
      "text/plain": [
       "{'Washington': 67,\n",
       " 'Adams1': 90,\n",
       " 'Jefferson': 83,\n",
       " 'Madison': 85,\n",
       " 'Monroe': 73,\n",
       " 'Adams2': 80,\n",
       " 'Jackson': 78,\n",
       " 'Van Buren': 79,\n",
       " 'Harrison1': 68,\n",
       " 'Tyler': 71,\n",
       " 'Polk': 53,\n",
       " 'Taylor': 65,\n",
       " 'Fillmore': 74,\n",
       " 'Pierce': 64,\n",
       " 'Buchanan': 77,\n",
       " 'Lincoln': 56,\n",
       " 'Johnson': 66,\n",
       " 'Grant': 63,\n",
       " 'Hayes': 70,\n",
       " 'Garfield': 49,\n",
       " 'Arthur': 56,\n",
       " 'Cleveland1': 71,\n",
       " 'Harrison2': 67,\n",
       " 'Cleveland2': 71}"
      ]
     },
     "execution_count": 30,
     "metadata": {},
     "output_type": "execute_result"
    }
   ],
   "source": [
    "prez_dicts = dict()\n",
    "def convert_to_dict():\n",
    "    '''Takes the presidents list and returns a dictionary with the last name as the key and the age at death as the value'''\n",
    "    for i in range(len(presidents)):\n",
    "        prez_dicts[presidents[i][1]] = presidents[i][8]\n",
    "    return prez_dicts\n",
    "\n",
    "convert_to_dict()"
   ]
  },
  {
   "cell_type": "markdown",
   "metadata": {},
   "source": [
    "### Bonus 1"
   ]
  },
  {
   "cell_type": "code",
   "execution_count": 32,
   "metadata": {},
   "outputs": [
    {
     "name": "stdout",
     "output_type": "stream",
     "text": [
      "President Washington died at 67 years old.\n",
      "President Adams1 died at 90 years old.\n",
      "President Jefferson died at 83 years old.\n",
      "President Madison died at 85 years old.\n",
      "President Monroe died at 73 years old.\n",
      "President Adams2 died at 80 years old.\n",
      "President Jackson died at 78 years old.\n",
      "President Van Buren died at 79 years old.\n",
      "President Harrison1 died at 68 years old.\n",
      "President Tyler died at 71 years old.\n",
      "President Polk died at 53 years old.\n",
      "President Taylor died at 65 years old.\n",
      "President Fillmore died at 74 years old.\n",
      "President Pierce died at 64 years old.\n",
      "President Buchanan died at 77 years old.\n",
      "President Lincoln died at 56 years old.\n",
      "President Johnson died at 66 years old.\n",
      "President Grant died at 63 years old.\n",
      "President Hayes died at 70 years old.\n",
      "President Garfield died at 49 years old.\n",
      "President Arthur died at 56 years old.\n",
      "President Cleveland1 died at 71 years old.\n",
      "President Harrison2 died at 67 years old.\n",
      "President Cleveland2 died at 71 years old.\n"
     ]
    }
   ],
   "source": [
    "def convert_to_sentence():\n",
    "    '''Accepts the dictionary from the convert_to_dict() function and prints out the output in a sentence'''\n",
    "    for i in range(len(presidents)):\n",
    "        print(\"President\",presidents[i][1],\"died at\",prez_dicts[presidents[i][1]],\"years old.\")\n",
    "\n",
    "convert_to_sentence()"
   ]
  },
  {
   "cell_type": "markdown",
   "metadata": {},
   "source": [
    "### Bonus 2"
   ]
  },
  {
   "cell_type": "code",
   "execution_count": 39,
   "metadata": {},
   "outputs": [
    {
     "data": {
      "text/plain": [
       "[90, 83, 85, 73, 80, 78, 79, 68, 53, 65, 74, 64, 77, 66, 63, 70, 49]"
      ]
     },
     "execution_count": 39,
     "metadata": {},
     "output_type": "execute_result"
    }
   ],
   "source": [
    "from collections import Counter\n",
    "ages = []\n",
    "for i in Counter(death_age):\n",
    "    if Counter(death_age)[i]==1:\n",
    "        ages.append(i)\n",
    "\n",
    "ages"
   ]
  }
 ],
 "metadata": {
  "kernelspec": {
   "display_name": "Python 3",
   "language": "python",
   "name": "python3"
  },
  "language_info": {
   "codemirror_mode": {
    "name": "ipython",
    "version": 3
   },
   "file_extension": ".py",
   "mimetype": "text/x-python",
   "name": "python",
   "nbconvert_exporter": "python",
   "pygments_lexer": "ipython3",
   "version": "3.8.3"
  }
 },
 "nbformat": 4,
 "nbformat_minor": 4
}
